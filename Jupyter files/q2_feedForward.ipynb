{
  "nbformat": 4,
  "nbformat_minor": 0,
  "metadata": {
    "colab": {
      "provenance": []
    },
    "kernelspec": {
      "name": "python3",
      "display_name": "Python 3"
    },
    "language_info": {
      "name": "python"
    }
  },
  "cells": [
    {
      "cell_type": "code",
      "source": [
        "import numpy as np\n",
        "from keras.datasets import fashion_mnist\n",
        "from sklearn.model_selection import train_test_split"
      ],
      "metadata": {
        "id": "nHecrZwjvvQT"
      },
      "execution_count": 1,
      "outputs": []
    },
    {
      "cell_type": "code",
      "execution_count": 2,
      "metadata": {
        "id": "n2wl7oNnunmv"
      },
      "outputs": [],
      "source": [
        "import numpy as np\n",
        "\n",
        "class MLP:\n",
        "    def __init__(self, X, Y, layers):\n",
        "        self.X, self.Y = X, Y\n",
        "        self.n_samples = len(X)\n",
        "        self.layers = layers\n",
        "        self.weights = self.initialize_weights()\n",
        "\n",
        "    def initialize_weights(self):\n",
        "        weights = {}\n",
        "        for i in range(len(self.layers) - 1):\n",
        "            weights[f'w{i+1}'] = np.random.randn(self.layers[i], self.layers[i+1])\n",
        "            weights[f'b{i+1}'] = np.zeros((1, self.layers[i+1]))\n",
        "        return weights\n",
        "\n",
        "    def activate(self, z, activation_type):\n",
        "        if activation_type == 'relu':\n",
        "            return np.maximum(0, z)\n",
        "        elif activation_type == 'sigmoid':\n",
        "            return 1 / (1 + np.exp(-z))\n",
        "        elif activation_type == 'softmax':\n",
        "            exp_vals = np.exp(z - np.max(z, axis=1, keepdims=True))\n",
        "            return exp_vals / np.sum(exp_vals, axis=1, keepdims=True)\n",
        "        else:\n",
        "            raise ValueError(\"Unsupported activation type\")\n",
        "\n",
        "    def compute_layer_output(self, input_data, weight_key, bias_key, activation_type):\n",
        "        z = np.dot(input_data, self.weights[weight_key]) + self.weights[bias_key]\n",
        "        return self.activate(z, activation_type)\n",
        "\n",
        "    def forward_pass(self, data):\n",
        "        activations = data\n",
        "        for i in range(len(self.layers) - 1):\n",
        "            activation_type = 'sigmoid' if i < len(self.layers) - 2 else 'softmax'\n",
        "            activations = self.compute_layer_output(activations, f'w{i+1}', f'b{i+1}', activation_type)\n",
        "        return activations\n"
      ]
    },
    {
      "cell_type": "code",
      "source": [
        "#loading the data from fashion_mnist dataset\n",
        "(train_images, train_labels), (test_images, test_labels) = fashion_mnist.load_data()\n",
        "\n",
        "train_images = train_images.reshape(train_images.shape[0], -1) / 255.0\n",
        "test_images = test_images.reshape(test_images.shape[0], -1) / 255.0\n",
        "\n",
        "train_labels_one_hot = np.eye(10)[train_labels]\n",
        "test_labels_one_hot = np.eye(10)[test_labels]\n",
        "\n",
        "#any number of layers and their sizes can be given\n",
        "layer_sizes = [train_images.shape[1], 128, 64, 32, 10]\n",
        "\n",
        "#initialize, train and test our feedforward only model\n",
        "mlp = MLP(train_images, train_labels_one_hot, layer_sizes)\n",
        "feedForwardOutput=mlp.forward_pass(train_images)\n",
        "\n",
        "print(\"Predicted probabilty after one feed forward call:\")\n",
        "print(feedForwardOutput[10])\n",
        "\n",
        "print(\"True label value of Image:\")\n",
        "print(test_labels_one_hot[10])"
      ],
      "metadata": {
        "colab": {
          "base_uri": "https://localhost:8080/"
        },
        "id": "JSDffsQdvRgR",
        "outputId": "02af8cdc-4d2f-4f31-955d-540c5566b390"
      },
      "execution_count": 3,
      "outputs": [
        {
          "output_type": "stream",
          "name": "stdout",
          "text": [
            "Downloading data from https://storage.googleapis.com/tensorflow/tf-keras-datasets/train-labels-idx1-ubyte.gz\n",
            "\u001b[1m29515/29515\u001b[0m \u001b[32m━━━━━━━━━━━━━━━━━━━━\u001b[0m\u001b[37m\u001b[0m \u001b[1m0s\u001b[0m 0us/step\n",
            "Downloading data from https://storage.googleapis.com/tensorflow/tf-keras-datasets/train-images-idx3-ubyte.gz\n",
            "\u001b[1m26421880/26421880\u001b[0m \u001b[32m━━━━━━━━━━━━━━━━━━━━\u001b[0m\u001b[37m\u001b[0m \u001b[1m0s\u001b[0m 0us/step\n",
            "Downloading data from https://storage.googleapis.com/tensorflow/tf-keras-datasets/t10k-labels-idx1-ubyte.gz\n",
            "\u001b[1m5148/5148\u001b[0m \u001b[32m━━━━━━━━━━━━━━━━━━━━\u001b[0m\u001b[37m\u001b[0m \u001b[1m0s\u001b[0m 0us/step\n",
            "Downloading data from https://storage.googleapis.com/tensorflow/tf-keras-datasets/t10k-images-idx3-ubyte.gz\n",
            "\u001b[1m4422102/4422102\u001b[0m \u001b[32m━━━━━━━━━━━━━━━━━━━━\u001b[0m\u001b[37m\u001b[0m \u001b[1m0s\u001b[0m 0us/step\n",
            "Predicted probabilty after one feed forward call:\n",
            "[1.00463724e-02 1.81969598e-04 8.72438690e-03 5.49132952e-02\n",
            " 4.09427953e-02 2.36659618e-02 8.70717531e-02 1.33473096e-02\n",
            " 7.19416357e-01 4.16897988e-02]\n",
            "True label value of Image:\n",
            "[0. 0. 0. 0. 1. 0. 0. 0. 0. 0.]\n"
          ]
        }
      ]
    },
    {
      "cell_type": "code",
      "source": [],
      "metadata": {
        "id": "e2tUHDCbX3xu"
      },
      "execution_count": null,
      "outputs": []
    }
  ]
}